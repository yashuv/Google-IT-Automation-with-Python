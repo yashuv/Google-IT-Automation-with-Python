{
 "cells": [
  {
   "cell_type": "markdown",
   "metadata": {},
   "source": [
    "# Final Project - Word Cloud"
   ]
  },
  {
   "cell_type": "markdown",
   "metadata": {},
   "source": [
    "For this project, you'll create a \"word cloud\" from a text by writing a script.  This script needs to process the text, remove punctuation, ignore case and words that do not contain all alphabets, count the frequencies, and ignore uninteresting or irrelevant words.  A dictionary is the output of the `calculate_frequencies` function.  The `wordcloud` module will then generate the image from your dictionary."
   ]
  },
  {
   "cell_type": "markdown",
   "metadata": {},
   "source": [
    "For the input text of your script, you will need to provide a file that contains text only.  For the text itself, you can copy and paste the contents of a website you like.  Or you can use a site like [Project Gutenberg](https://www.gutenberg.org/) to find books that are available online.  You could see what word clouds you can get from famous books, like a Shakespeare play or a novel by Jane Austen. Save this as a .txt file somewhere on your computer.\n",
    "<br><br>\n",
    "Now you will need to upload your input file here so that your script will be able to process it.  To do the upload, you will need an uploader widget.  Run the following cell to perform all the installs and imports for your word cloud script and uploader widget.  It may take a minute for all of this to run and there will be a lot of output messages. But, be patient. Once you get the following final line of output, the code is done executing. Then you can continue on with the rest of the instructions for this notebook.\n",
    "<br><br>\n",
    "**Enabling notebook extension fileupload/extension...**\n",
    "<br>\n",
    "**- Validating: <font color =green>OK</font>**"
   ]
  },
  {
   "cell_type": "code",
   "execution_count": 1,
   "metadata": {},
   "outputs": [
    {
     "name": "stdout",
     "output_type": "stream",
     "text": [
      "Collecting wordcloud\n",
      "  Downloading wordcloud-1.9.1.1.tar.gz (222 kB)\n",
      "     ------------------------------------ 222.8/222.8 kB 975.0 kB/s eta 0:00:00\n",
      "  Preparing metadata (setup.py): started\n",
      "  Preparing metadata (setup.py): finished with status 'done'\n",
      "Requirement already satisfied: numpy>=1.6.1 in c:\\users\\yashuv\\appdata\\local\\programs\\python\\python311\\lib\\site-packages (from wordcloud) (1.23.4)\n",
      "Requirement already satisfied: pillow in c:\\users\\yashuv\\appdata\\local\\programs\\python\\python311\\lib\\site-packages (from wordcloud) (9.3.0)\n",
      "Requirement already satisfied: matplotlib in c:\\users\\yashuv\\appdata\\local\\programs\\python\\python311\\lib\\site-packages (from wordcloud) (3.6.2)\n",
      "Requirement already satisfied: contourpy>=1.0.1 in c:\\users\\yashuv\\appdata\\local\\programs\\python\\python311\\lib\\site-packages (from matplotlib->wordcloud) (1.0.6)\n",
      "Requirement already satisfied: cycler>=0.10 in c:\\users\\yashuv\\appdata\\local\\programs\\python\\python311\\lib\\site-packages (from matplotlib->wordcloud) (0.11.0)\n",
      "Requirement already satisfied: fonttools>=4.22.0 in c:\\users\\yashuv\\appdata\\local\\programs\\python\\python311\\lib\\site-packages (from matplotlib->wordcloud) (4.38.0)\n",
      "Requirement already satisfied: kiwisolver>=1.0.1 in c:\\users\\yashuv\\appdata\\local\\programs\\python\\python311\\lib\\site-packages (from matplotlib->wordcloud) (1.4.4)\n",
      "Requirement already satisfied: packaging>=20.0 in c:\\users\\yashuv\\appdata\\local\\programs\\python\\python311\\lib\\site-packages (from matplotlib->wordcloud) (21.3)\n",
      "Requirement already satisfied: pyparsing>=2.2.1 in c:\\users\\yashuv\\appdata\\local\\programs\\python\\python311\\lib\\site-packages (from matplotlib->wordcloud) (3.0.9)\n",
      "Requirement already satisfied: python-dateutil>=2.7 in c:\\users\\yashuv\\appdata\\local\\programs\\python\\python311\\lib\\site-packages (from matplotlib->wordcloud) (2.8.2)\n",
      "Requirement already satisfied: six>=1.5 in c:\\users\\yashuv\\appdata\\local\\programs\\python\\python311\\lib\\site-packages (from python-dateutil>=2.7->matplotlib->wordcloud) (1.16.0)\n",
      "Building wheels for collected packages: wordcloud\n",
      "  Building wheel for wordcloud (setup.py): started\n",
      "  Building wheel for wordcloud (setup.py): finished with status 'error'\n",
      "  Running setup.py clean for wordcloud\n",
      "Failed to build wordcloud\n"
     ]
    },
    {
     "name": "stderr",
     "output_type": "stream",
     "text": [
      "  error: subprocess-exited-with-error\n",
      "  \n",
      "  × python setup.py bdist_wheel did not run successfully.\n",
      "  │ exit code: 1\n",
      "  ╰─> [20 lines of output]\n",
      "      running bdist_wheel\n",
      "      running build\n",
      "      running build_py\n",
      "      creating build\n",
      "      creating build\\lib.win-amd64-cpython-311\n",
      "      creating build\\lib.win-amd64-cpython-311\\wordcloud\n",
      "      copying wordcloud\\color_from_image.py -> build\\lib.win-amd64-cpython-311\\wordcloud\n",
      "      copying wordcloud\\tokenization.py -> build\\lib.win-amd64-cpython-311\\wordcloud\n",
      "      copying wordcloud\\wordcloud.py -> build\\lib.win-amd64-cpython-311\\wordcloud\n",
      "      copying wordcloud\\wordcloud_cli.py -> build\\lib.win-amd64-cpython-311\\wordcloud\n",
      "      copying wordcloud\\_version.py -> build\\lib.win-amd64-cpython-311\\wordcloud\n",
      "      copying wordcloud\\__init__.py -> build\\lib.win-amd64-cpython-311\\wordcloud\n",
      "      copying wordcloud\\__main__.py -> build\\lib.win-amd64-cpython-311\\wordcloud\n",
      "      copying wordcloud\\stopwords -> build\\lib.win-amd64-cpython-311\\wordcloud\n",
      "      copying wordcloud\\DroidSansMono.ttf -> build\\lib.win-amd64-cpython-311\\wordcloud\n",
      "      UPDATING build\\lib.win-amd64-cpython-311\\wordcloud/_version.py\n",
      "      set build\\lib.win-amd64-cpython-311\\wordcloud/_version.py to '1.9.1.1'\n",
      "      running build_ext\n",
      "      building 'wordcloud.query_integral_image' extension\n",
      "      error: Microsoft Visual C++ 14.0 or greater is required. Get it with \"Microsoft C++ Build Tools\": https://visualstudio.microsoft.com/visual-cpp-build-tools/\n",
      "      [end of output]\n",
      "  \n",
      "  note: This error originates from a subprocess, and is likely not a problem with pip.\n",
      "  ERROR: Failed building wheel for wordcloud\n",
      "ERROR: Could not build wheels for wordcloud, which is required to install pyproject.toml-based projects\n"
     ]
    },
    {
     "name": "stdout",
     "output_type": "stream",
     "text": [
      "Collecting fileupload\n",
      "  Downloading fileupload-0.1.5-py2.py3-none-any.whl (6.2 kB)\n",
      "Requirement already satisfied: ipywidgets>=5.1 in c:\\users\\yashuv\\appdata\\local\\programs\\python\\python311\\lib\\site-packages (from fileupload) (8.0.2)\n",
      "Requirement already satisfied: notebook>=4.2 in c:\\users\\yashuv\\appdata\\local\\programs\\python\\python311\\lib\\site-packages (from fileupload) (6.5.2)\n",
      "Requirement already satisfied: traitlets>=4.2 in c:\\users\\yashuv\\appdata\\local\\programs\\python\\python311\\lib\\site-packages (from fileupload) (5.5.0)\n",
      "Requirement already satisfied: ipykernel>=4.5.1 in c:\\users\\yashuv\\appdata\\local\\programs\\python\\python311\\lib\\site-packages (from ipywidgets>=5.1->fileupload) (6.17.1)\n",
      "Requirement already satisfied: ipython>=6.1.0 in c:\\users\\yashuv\\appdata\\local\\programs\\python\\python311\\lib\\site-packages (from ipywidgets>=5.1->fileupload) (8.6.0)\n",
      "Requirement already satisfied: widgetsnbextension~=4.0 in c:\\users\\yashuv\\appdata\\local\\programs\\python\\python311\\lib\\site-packages (from ipywidgets>=5.1->fileupload) (4.0.3)\n",
      "Requirement already satisfied: jupyterlab-widgets~=3.0 in c:\\users\\yashuv\\appdata\\local\\programs\\python\\python311\\lib\\site-packages (from ipywidgets>=5.1->fileupload) (3.0.3)\n",
      "Requirement already satisfied: jinja2 in c:\\users\\yashuv\\appdata\\local\\programs\\python\\python311\\lib\\site-packages (from notebook>=4.2->fileupload) (3.1.2)\n",
      "Requirement already satisfied: tornado>=6.1 in c:\\users\\yashuv\\appdata\\local\\programs\\python\\python311\\lib\\site-packages (from notebook>=4.2->fileupload) (6.2)\n",
      "Requirement already satisfied: pyzmq>=17 in c:\\users\\yashuv\\appdata\\local\\programs\\python\\python311\\lib\\site-packages (from notebook>=4.2->fileupload) (24.0.1)\n",
      "Requirement already satisfied: argon2-cffi in c:\\users\\yashuv\\appdata\\local\\programs\\python\\python311\\lib\\site-packages (from notebook>=4.2->fileupload) (21.3.0)\n",
      "Requirement already satisfied: jupyter-core>=4.6.1 in c:\\users\\yashuv\\appdata\\local\\programs\\python\\python311\\lib\\site-packages (from notebook>=4.2->fileupload) (5.0.0)\n",
      "Requirement already satisfied: jupyter-client>=5.3.4 in c:\\users\\yashuv\\appdata\\local\\programs\\python\\python311\\lib\\site-packages (from notebook>=4.2->fileupload) (7.4.7)\n",
      "Requirement already satisfied: ipython-genutils in c:\\users\\yashuv\\appdata\\local\\programs\\python\\python311\\lib\\site-packages (from notebook>=4.2->fileupload) (0.2.0)\n",
      "Requirement already satisfied: nbformat in c:\\users\\yashuv\\appdata\\local\\programs\\python\\python311\\lib\\site-packages (from notebook>=4.2->fileupload) (5.7.0)\n",
      "Requirement already satisfied: nbconvert>=5 in c:\\users\\yashuv\\appdata\\local\\programs\\python\\python311\\lib\\site-packages (from notebook>=4.2->fileupload) (7.2.5)\n",
      "Requirement already satisfied: nest-asyncio>=1.5 in c:\\users\\yashuv\\appdata\\local\\programs\\python\\python311\\lib\\site-packages (from notebook>=4.2->fileupload) (1.5.6)\n",
      "Requirement already satisfied: Send2Trash>=1.8.0 in c:\\users\\yashuv\\appdata\\local\\programs\\python\\python311\\lib\\site-packages (from notebook>=4.2->fileupload) (1.8.0)\n",
      "Requirement already satisfied: terminado>=0.8.3 in c:\\users\\yashuv\\appdata\\local\\programs\\python\\python311\\lib\\site-packages (from notebook>=4.2->fileupload) (0.17.0)\n",
      "Requirement already satisfied: prometheus-client in c:\\users\\yashuv\\appdata\\local\\programs\\python\\python311\\lib\\site-packages (from notebook>=4.2->fileupload) (0.15.0)\n",
      "Requirement already satisfied: nbclassic>=0.4.7 in c:\\users\\yashuv\\appdata\\local\\programs\\python\\python311\\lib\\site-packages (from notebook>=4.2->fileupload) (0.4.8)\n",
      "Requirement already satisfied: debugpy>=1.0 in c:\\users\\yashuv\\appdata\\local\\programs\\python\\python311\\lib\\site-packages (from ipykernel>=4.5.1->ipywidgets>=5.1->fileupload) (1.6.3)\n",
      "Requirement already satisfied: matplotlib-inline>=0.1 in c:\\users\\yashuv\\appdata\\local\\programs\\python\\python311\\lib\\site-packages (from ipykernel>=4.5.1->ipywidgets>=5.1->fileupload) (0.1.6)\n",
      "Requirement already satisfied: packaging in c:\\users\\yashuv\\appdata\\local\\programs\\python\\python311\\lib\\site-packages (from ipykernel>=4.5.1->ipywidgets>=5.1->fileupload) (21.3)\n",
      "Requirement already satisfied: psutil in c:\\users\\yashuv\\appdata\\local\\programs\\python\\python311\\lib\\site-packages (from ipykernel>=4.5.1->ipywidgets>=5.1->fileupload) (5.9.4)\n",
      "Requirement already satisfied: backcall in c:\\users\\yashuv\\appdata\\local\\programs\\python\\python311\\lib\\site-packages (from ipython>=6.1.0->ipywidgets>=5.1->fileupload) (0.2.0)\n",
      "Requirement already satisfied: decorator in c:\\users\\yashuv\\appdata\\local\\programs\\python\\python311\\lib\\site-packages (from ipython>=6.1.0->ipywidgets>=5.1->fileupload) (4.4.2)\n",
      "Requirement already satisfied: jedi>=0.16 in c:\\users\\yashuv\\appdata\\local\\programs\\python\\python311\\lib\\site-packages (from ipython>=6.1.0->ipywidgets>=5.1->fileupload) (0.18.1)\n",
      "Requirement already satisfied: pickleshare in c:\\users\\yashuv\\appdata\\local\\programs\\python\\python311\\lib\\site-packages (from ipython>=6.1.0->ipywidgets>=5.1->fileupload) (0.7.5)\n",
      "Requirement already satisfied: prompt-toolkit<3.1.0,>3.0.1 in c:\\users\\yashuv\\appdata\\local\\programs\\python\\python311\\lib\\site-packages (from ipython>=6.1.0->ipywidgets>=5.1->fileupload) (3.0.32)\n",
      "Requirement already satisfied: pygments>=2.4.0 in c:\\users\\yashuv\\appdata\\local\\programs\\python\\python311\\lib\\site-packages (from ipython>=6.1.0->ipywidgets>=5.1->fileupload) (2.13.0)\n",
      "Requirement already satisfied: stack-data in c:\\users\\yashuv\\appdata\\local\\programs\\python\\python311\\lib\\site-packages (from ipython>=6.1.0->ipywidgets>=5.1->fileupload) (0.6.1)\n",
      "Requirement already satisfied: colorama in c:\\users\\yashuv\\appdata\\local\\programs\\python\\python311\\lib\\site-packages (from ipython>=6.1.0->ipywidgets>=5.1->fileupload) (0.4.6)\n",
      "Requirement already satisfied: entrypoints in c:\\users\\yashuv\\appdata\\local\\programs\\python\\python311\\lib\\site-packages (from jupyter-client>=5.3.4->notebook>=4.2->fileupload) (0.4)\n",
      "Requirement already satisfied: python-dateutil>=2.8.2 in c:\\users\\yashuv\\appdata\\local\\programs\\python\\python311\\lib\\site-packages (from jupyter-client>=5.3.4->notebook>=4.2->fileupload) (2.8.2)\n",
      "Requirement already satisfied: platformdirs in c:\\users\\yashuv\\appdata\\local\\programs\\python\\python311\\lib\\site-packages (from jupyter-core>=4.6.1->notebook>=4.2->fileupload) (2.5.4)\n",
      "Requirement already satisfied: pywin32>=1.0 in c:\\users\\yashuv\\appdata\\local\\programs\\python\\python311\\lib\\site-packages (from jupyter-core>=4.6.1->notebook>=4.2->fileupload) (305)\n",
      "Requirement already satisfied: jupyter-server>=1.8 in c:\\users\\yashuv\\appdata\\local\\programs\\python\\python311\\lib\\site-packages (from nbclassic>=0.4.7->notebook>=4.2->fileupload) (1.23.2)\n",
      "Requirement already satisfied: notebook-shim>=0.1.0 in c:\\users\\yashuv\\appdata\\local\\programs\\python\\python311\\lib\\site-packages (from nbclassic>=0.4.7->notebook>=4.2->fileupload) (0.2.2)\n",
      "Requirement already satisfied: beautifulsoup4 in c:\\users\\yashuv\\appdata\\local\\programs\\python\\python311\\lib\\site-packages (from nbconvert>=5->notebook>=4.2->fileupload) (4.11.1)\n",
      "Requirement already satisfied: bleach in c:\\users\\yashuv\\appdata\\local\\programs\\python\\python311\\lib\\site-packages (from nbconvert>=5->notebook>=4.2->fileupload) (5.0.1)\n",
      "Requirement already satisfied: defusedxml in c:\\users\\yashuv\\appdata\\local\\programs\\python\\python311\\lib\\site-packages (from nbconvert>=5->notebook>=4.2->fileupload) (0.7.1)\n",
      "Requirement already satisfied: jupyterlab-pygments in c:\\users\\yashuv\\appdata\\local\\programs\\python\\python311\\lib\\site-packages (from nbconvert>=5->notebook>=4.2->fileupload) (0.2.2)\n",
      "Requirement already satisfied: markupsafe>=2.0 in c:\\users\\yashuv\\appdata\\local\\programs\\python\\python311\\lib\\site-packages (from nbconvert>=5->notebook>=4.2->fileupload) (2.1.1)\n",
      "Requirement already satisfied: mistune<3,>=2.0.3 in c:\\users\\yashuv\\appdata\\local\\programs\\python\\python311\\lib\\site-packages (from nbconvert>=5->notebook>=4.2->fileupload) (2.0.4)\n",
      "Requirement already satisfied: nbclient>=0.5.0 in c:\\users\\yashuv\\appdata\\local\\programs\\python\\python311\\lib\\site-packages (from nbconvert>=5->notebook>=4.2->fileupload) (0.7.0)\n",
      "Requirement already satisfied: pandocfilters>=1.4.1 in c:\\users\\yashuv\\appdata\\local\\programs\\python\\python311\\lib\\site-packages (from nbconvert>=5->notebook>=4.2->fileupload) (1.5.0)\n",
      "Requirement already satisfied: tinycss2 in c:\\users\\yashuv\\appdata\\local\\programs\\python\\python311\\lib\\site-packages (from nbconvert>=5->notebook>=4.2->fileupload) (1.2.1)\n",
      "Requirement already satisfied: fastjsonschema in c:\\users\\yashuv\\appdata\\local\\programs\\python\\python311\\lib\\site-packages (from nbformat->notebook>=4.2->fileupload) (2.16.2)\n",
      "Requirement already satisfied: jsonschema>=2.6 in c:\\users\\yashuv\\appdata\\local\\programs\\python\\python311\\lib\\site-packages (from nbformat->notebook>=4.2->fileupload) (4.17.0)\n",
      "Requirement already satisfied: pywinpty>=1.1.0 in c:\\users\\yashuv\\appdata\\local\\programs\\python\\python311\\lib\\site-packages (from terminado>=0.8.3->notebook>=4.2->fileupload) (2.0.9)\n",
      "Requirement already satisfied: argon2-cffi-bindings in c:\\users\\yashuv\\appdata\\local\\programs\\python\\python311\\lib\\site-packages (from argon2-cffi->notebook>=4.2->fileupload) (21.2.0)\n",
      "Requirement already satisfied: parso<0.9.0,>=0.8.0 in c:\\users\\yashuv\\appdata\\local\\programs\\python\\python311\\lib\\site-packages (from jedi>=0.16->ipython>=6.1.0->ipywidgets>=5.1->fileupload) (0.8.3)\n",
      "Requirement already satisfied: attrs>=17.4.0 in c:\\users\\yashuv\\appdata\\local\\programs\\python\\python311\\lib\\site-packages (from jsonschema>=2.6->nbformat->notebook>=4.2->fileupload) (22.1.0)\n",
      "Requirement already satisfied: pyrsistent!=0.17.0,!=0.17.1,!=0.17.2,>=0.14.0 in c:\\users\\yashuv\\appdata\\local\\programs\\python\\python311\\lib\\site-packages (from jsonschema>=2.6->nbformat->notebook>=4.2->fileupload) (0.19.2)\n",
      "Requirement already satisfied: anyio<4,>=3.1.0 in c:\\users\\yashuv\\appdata\\local\\programs\\python\\python311\\lib\\site-packages (from jupyter-server>=1.8->nbclassic>=0.4.7->notebook>=4.2->fileupload) (3.6.2)\n",
      "Requirement already satisfied: websocket-client in c:\\users\\yashuv\\appdata\\local\\programs\\python\\python311\\lib\\site-packages (from jupyter-server>=1.8->nbclassic>=0.4.7->notebook>=4.2->fileupload) (1.4.2)\n",
      "Requirement already satisfied: wcwidth in c:\\users\\yashuv\\appdata\\local\\programs\\python\\python311\\lib\\site-packages (from prompt-toolkit<3.1.0,>3.0.1->ipython>=6.1.0->ipywidgets>=5.1->fileupload) (0.2.5)\n",
      "Requirement already satisfied: six>=1.5 in c:\\users\\yashuv\\appdata\\local\\programs\\python\\python311\\lib\\site-packages (from python-dateutil>=2.8.2->jupyter-client>=5.3.4->notebook>=4.2->fileupload) (1.16.0)\n",
      "Requirement already satisfied: cffi>=1.0.1 in c:\\users\\yashuv\\appdata\\local\\programs\\python\\python311\\lib\\site-packages (from argon2-cffi-bindings->argon2-cffi->notebook>=4.2->fileupload) (1.15.1)\n",
      "Requirement already satisfied: soupsieve>1.2 in c:\\users\\yashuv\\appdata\\local\\programs\\python\\python311\\lib\\site-packages (from beautifulsoup4->nbconvert>=5->notebook>=4.2->fileupload) (2.3.2.post1)\n",
      "Requirement already satisfied: webencodings in c:\\users\\yashuv\\appdata\\local\\programs\\python\\python311\\lib\\site-packages (from bleach->nbconvert>=5->notebook>=4.2->fileupload) (0.5.1)\n",
      "Requirement already satisfied: pyparsing!=3.0.5,>=2.0.2 in c:\\users\\yashuv\\appdata\\local\\programs\\python\\python311\\lib\\site-packages (from packaging->ipykernel>=4.5.1->ipywidgets>=5.1->fileupload) (3.0.9)\n",
      "Requirement already satisfied: executing>=1.2.0 in c:\\users\\yashuv\\appdata\\local\\programs\\python\\python311\\lib\\site-packages (from stack-data->ipython>=6.1.0->ipywidgets>=5.1->fileupload) (1.2.0)\n",
      "Requirement already satisfied: asttokens>=2.1.0 in c:\\users\\yashuv\\appdata\\local\\programs\\python\\python311\\lib\\site-packages (from stack-data->ipython>=6.1.0->ipywidgets>=5.1->fileupload) (2.1.0)\n",
      "Requirement already satisfied: pure-eval in c:\\users\\yashuv\\appdata\\local\\programs\\python\\python311\\lib\\site-packages (from stack-data->ipython>=6.1.0->ipywidgets>=5.1->fileupload) (0.2.2)\n",
      "Requirement already satisfied: idna>=2.8 in c:\\users\\yashuv\\appdata\\local\\programs\\python\\python311\\lib\\site-packages (from anyio<4,>=3.1.0->jupyter-server>=1.8->nbclassic>=0.4.7->notebook>=4.2->fileupload) (3.4)\n",
      "Requirement already satisfied: sniffio>=1.1 in c:\\users\\yashuv\\appdata\\local\\programs\\python\\python311\\lib\\site-packages (from anyio<4,>=3.1.0->jupyter-server>=1.8->nbclassic>=0.4.7->notebook>=4.2->fileupload) (1.3.0)\n",
      "Requirement already satisfied: pycparser in c:\\users\\yashuv\\appdata\\local\\programs\\python\\python311\\lib\\site-packages (from cffi>=1.0.1->argon2-cffi-bindings->argon2-cffi->notebook>=4.2->fileupload) (2.21)\n",
      "Installing collected packages: fileupload\n",
      "Successfully installed fileupload-0.1.5\n",
      "Requirement already satisfied: ipywidgets in c:\\users\\yashuv\\appdata\\local\\programs\\python\\python311\\lib\\site-packages (8.0.2)\n",
      "Requirement already satisfied: ipykernel>=4.5.1 in c:\\users\\yashuv\\appdata\\local\\programs\\python\\python311\\lib\\site-packages (from ipywidgets) (6.17.1)\n",
      "Requirement already satisfied: ipython>=6.1.0 in c:\\users\\yashuv\\appdata\\local\\programs\\python\\python311\\lib\\site-packages (from ipywidgets) (8.6.0)\n",
      "Requirement already satisfied: traitlets>=4.3.1 in c:\\users\\yashuv\\appdata\\local\\programs\\python\\python311\\lib\\site-packages (from ipywidgets) (5.5.0)\n",
      "Requirement already satisfied: widgetsnbextension~=4.0 in c:\\users\\yashuv\\appdata\\local\\programs\\python\\python311\\lib\\site-packages (from ipywidgets) (4.0.3)\n",
      "Requirement already satisfied: jupyterlab-widgets~=3.0 in c:\\users\\yashuv\\appdata\\local\\programs\\python\\python311\\lib\\site-packages (from ipywidgets) (3.0.3)\n",
      "Requirement already satisfied: debugpy>=1.0 in c:\\users\\yashuv\\appdata\\local\\programs\\python\\python311\\lib\\site-packages (from ipykernel>=4.5.1->ipywidgets) (1.6.3)\n",
      "Requirement already satisfied: jupyter-client>=6.1.12 in c:\\users\\yashuv\\appdata\\local\\programs\\python\\python311\\lib\\site-packages (from ipykernel>=4.5.1->ipywidgets) (7.4.7)\n",
      "Requirement already satisfied: matplotlib-inline>=0.1 in c:\\users\\yashuv\\appdata\\local\\programs\\python\\python311\\lib\\site-packages (from ipykernel>=4.5.1->ipywidgets) (0.1.6)\n",
      "Requirement already satisfied: nest-asyncio in c:\\users\\yashuv\\appdata\\local\\programs\\python\\python311\\lib\\site-packages (from ipykernel>=4.5.1->ipywidgets) (1.5.6)\n",
      "Requirement already satisfied: packaging in c:\\users\\yashuv\\appdata\\local\\programs\\python\\python311\\lib\\site-packages (from ipykernel>=4.5.1->ipywidgets) (21.3)\n",
      "Requirement already satisfied: psutil in c:\\users\\yashuv\\appdata\\local\\programs\\python\\python311\\lib\\site-packages (from ipykernel>=4.5.1->ipywidgets) (5.9.4)\n",
      "Requirement already satisfied: pyzmq>=17 in c:\\users\\yashuv\\appdata\\local\\programs\\python\\python311\\lib\\site-packages (from ipykernel>=4.5.1->ipywidgets) (24.0.1)\n",
      "Requirement already satisfied: tornado>=6.1 in c:\\users\\yashuv\\appdata\\local\\programs\\python\\python311\\lib\\site-packages (from ipykernel>=4.5.1->ipywidgets) (6.2)\n",
      "Requirement already satisfied: backcall in c:\\users\\yashuv\\appdata\\local\\programs\\python\\python311\\lib\\site-packages (from ipython>=6.1.0->ipywidgets) (0.2.0)\n",
      "Requirement already satisfied: decorator in c:\\users\\yashuv\\appdata\\local\\programs\\python\\python311\\lib\\site-packages (from ipython>=6.1.0->ipywidgets) (4.4.2)\n",
      "Requirement already satisfied: jedi>=0.16 in c:\\users\\yashuv\\appdata\\local\\programs\\python\\python311\\lib\\site-packages (from ipython>=6.1.0->ipywidgets) (0.18.1)\n",
      "Requirement already satisfied: pickleshare in c:\\users\\yashuv\\appdata\\local\\programs\\python\\python311\\lib\\site-packages (from ipython>=6.1.0->ipywidgets) (0.7.5)\n",
      "Requirement already satisfied: prompt-toolkit<3.1.0,>3.0.1 in c:\\users\\yashuv\\appdata\\local\\programs\\python\\python311\\lib\\site-packages (from ipython>=6.1.0->ipywidgets) (3.0.32)\n",
      "Requirement already satisfied: pygments>=2.4.0 in c:\\users\\yashuv\\appdata\\local\\programs\\python\\python311\\lib\\site-packages (from ipython>=6.1.0->ipywidgets) (2.13.0)\n",
      "Requirement already satisfied: stack-data in c:\\users\\yashuv\\appdata\\local\\programs\\python\\python311\\lib\\site-packages (from ipython>=6.1.0->ipywidgets) (0.6.1)\n",
      "Requirement already satisfied: colorama in c:\\users\\yashuv\\appdata\\local\\programs\\python\\python311\\lib\\site-packages (from ipython>=6.1.0->ipywidgets) (0.4.6)\n",
      "Requirement already satisfied: parso<0.9.0,>=0.8.0 in c:\\users\\yashuv\\appdata\\local\\programs\\python\\python311\\lib\\site-packages (from jedi>=0.16->ipython>=6.1.0->ipywidgets) (0.8.3)\n",
      "Requirement already satisfied: entrypoints in c:\\users\\yashuv\\appdata\\local\\programs\\python\\python311\\lib\\site-packages (from jupyter-client>=6.1.12->ipykernel>=4.5.1->ipywidgets) (0.4)\n",
      "Requirement already satisfied: jupyter-core>=4.9.2 in c:\\users\\yashuv\\appdata\\local\\programs\\python\\python311\\lib\\site-packages (from jupyter-client>=6.1.12->ipykernel>=4.5.1->ipywidgets) (5.0.0)\n",
      "Requirement already satisfied: python-dateutil>=2.8.2 in c:\\users\\yashuv\\appdata\\local\\programs\\python\\python311\\lib\\site-packages (from jupyter-client>=6.1.12->ipykernel>=4.5.1->ipywidgets) (2.8.2)\n",
      "Requirement already satisfied: wcwidth in c:\\users\\yashuv\\appdata\\local\\programs\\python\\python311\\lib\\site-packages (from prompt-toolkit<3.1.0,>3.0.1->ipython>=6.1.0->ipywidgets) (0.2.5)\n",
      "Requirement already satisfied: pyparsing!=3.0.5,>=2.0.2 in c:\\users\\yashuv\\appdata\\local\\programs\\python\\python311\\lib\\site-packages (from packaging->ipykernel>=4.5.1->ipywidgets) (3.0.9)\n",
      "Requirement already satisfied: executing>=1.2.0 in c:\\users\\yashuv\\appdata\\local\\programs\\python\\python311\\lib\\site-packages (from stack-data->ipython>=6.1.0->ipywidgets) (1.2.0)\n",
      "Requirement already satisfied: asttokens>=2.1.0 in c:\\users\\yashuv\\appdata\\local\\programs\\python\\python311\\lib\\site-packages (from stack-data->ipython>=6.1.0->ipywidgets) (2.1.0)\n",
      "Requirement already satisfied: pure-eval in c:\\users\\yashuv\\appdata\\local\\programs\\python\\python311\\lib\\site-packages (from stack-data->ipython>=6.1.0->ipywidgets) (0.2.2)\n",
      "Requirement already satisfied: six in c:\\users\\yashuv\\appdata\\local\\programs\\python\\python311\\lib\\site-packages (from asttokens>=2.1.0->stack-data->ipython>=6.1.0->ipywidgets) (1.16.0)\n",
      "Requirement already satisfied: platformdirs in c:\\users\\yashuv\\appdata\\local\\programs\\python\\python311\\lib\\site-packages (from jupyter-core>=4.9.2->jupyter-client>=6.1.12->ipykernel>=4.5.1->ipywidgets) (2.5.4)\n",
      "Requirement already satisfied: pywin32>=1.0 in c:\\users\\yashuv\\appdata\\local\\programs\\python\\python311\\lib\\site-packages (from jupyter-core>=4.9.2->jupyter-client>=6.1.12->ipykernel>=4.5.1->ipywidgets) (305)\n"
     ]
    },
    {
     "name": "stderr",
     "output_type": "stream",
     "text": [
      "Installing C:\\Users\\Yashuv\\AppData\\Local\\Programs\\Python\\Python311\\Lib\\site-packages\\fileupload\\static -> fileupload\n",
      "Making directory: C:\\Users\\Yashuv\\AppData\\Roaming\\jupyter\\nbextensions\\fileupload\\\n",
      "Copying: C:\\Users\\Yashuv\\AppData\\Local\\Programs\\Python\\Python311\\Lib\\site-packages\\fileupload\\static\\extension.js -> C:\\Users\\Yashuv\\AppData\\Roaming\\jupyter\\nbextensions\\fileupload\\extension.js\n",
      "Copying: C:\\Users\\Yashuv\\AppData\\Local\\Programs\\Python\\Python311\\Lib\\site-packages\\fileupload\\static\\widget.js -> C:\\Users\\Yashuv\\AppData\\Roaming\\jupyter\\nbextensions\\fileupload\\widget.js\n",
      "Making directory: C:\\Users\\Yashuv\\AppData\\Roaming\\jupyter\\nbextensions\\fileupload\\fileupload\n",
      "Copying: C:\\Users\\Yashuv\\AppData\\Local\\Programs\\Python\\Python311\\Lib\\site-packages\\fileupload\\static\\fileupload\\widget.js -> C:\\Users\\Yashuv\\AppData\\Roaming\\jupyter\\nbextensions\\fileupload\\fileupload\\widget.js\n",
      "- Validating: ok\n",
      "\n",
      "    To initialize this nbextension in the browser every time the notebook (or other app) loads:\n",
      "    \n",
      "          jupyter nbextension enable fileupload --user --py\n",
      "    \n",
      "Enabling notebook extension fileupload/extension...\n",
      "      - Validating: ok\n"
     ]
    },
    {
     "ename": "ModuleNotFoundError",
     "evalue": "No module named 'wordcloud'",
     "output_type": "error",
     "traceback": [
      "\u001b[1;31m---------------------------------------------------------------------------\u001b[0m",
      "\u001b[1;31mModuleNotFoundError\u001b[0m                       Traceback (most recent call last)",
      "\u001b[1;32mc:\\Users\\Yashuv\\Desktop\\Coursera-Courses\\Google IT Automation with Python Professional Certificate\\1. Crash Course on Python\\1.6 Final Project\\Lab Resources\\C1M6L2_Final_Project_World_Cloud_V3.ipynb Cell 4\u001b[0m in \u001b[0;36m9\n\u001b[0;32m      <a href='vscode-notebook-cell:/c%3A/Users/Yashuv/Desktop/Coursera-Courses/Google%20IT%20Automation%20with%20Python%20Professional%20Certificate/1.%20Crash%20Course%20on%20Python/1.6%20Final%20Project/Lab%20Resources/C1M6L2_Final_Project_World_Cloud_V3.ipynb#W3sZmlsZQ%3D%3D?line=5'>6</a>\u001b[0m get_ipython()\u001b[39m.\u001b[39msystem(\u001b[39m'\u001b[39m\u001b[39mjupyter nbextension install --py --user fileupload\u001b[39m\u001b[39m'\u001b[39m)\n\u001b[0;32m      <a href='vscode-notebook-cell:/c%3A/Users/Yashuv/Desktop/Coursera-Courses/Google%20IT%20Automation%20with%20Python%20Professional%20Certificate/1.%20Crash%20Course%20on%20Python/1.6%20Final%20Project/Lab%20Resources/C1M6L2_Final_Project_World_Cloud_V3.ipynb#W3sZmlsZQ%3D%3D?line=6'>7</a>\u001b[0m get_ipython()\u001b[39m.\u001b[39msystem(\u001b[39m'\u001b[39m\u001b[39mjupyter nbextension enable --py fileupload\u001b[39m\u001b[39m'\u001b[39m)\n\u001b[1;32m----> <a href='vscode-notebook-cell:/c%3A/Users/Yashuv/Desktop/Coursera-Courses/Google%20IT%20Automation%20with%20Python%20Professional%20Certificate/1.%20Crash%20Course%20on%20Python/1.6%20Final%20Project/Lab%20Resources/C1M6L2_Final_Project_World_Cloud_V3.ipynb#W3sZmlsZQ%3D%3D?line=8'>9</a>\u001b[0m \u001b[39mimport\u001b[39;00m \u001b[39mwordcloud\u001b[39;00m\n\u001b[0;32m     <a href='vscode-notebook-cell:/c%3A/Users/Yashuv/Desktop/Coursera-Courses/Google%20IT%20Automation%20with%20Python%20Professional%20Certificate/1.%20Crash%20Course%20on%20Python/1.6%20Final%20Project/Lab%20Resources/C1M6L2_Final_Project_World_Cloud_V3.ipynb#W3sZmlsZQ%3D%3D?line=9'>10</a>\u001b[0m \u001b[39mimport\u001b[39;00m \u001b[39mnumpy\u001b[39;00m \u001b[39mas\u001b[39;00m \u001b[39mnp\u001b[39;00m\n\u001b[0;32m     <a href='vscode-notebook-cell:/c%3A/Users/Yashuv/Desktop/Coursera-Courses/Google%20IT%20Automation%20with%20Python%20Professional%20Certificate/1.%20Crash%20Course%20on%20Python/1.6%20Final%20Project/Lab%20Resources/C1M6L2_Final_Project_World_Cloud_V3.ipynb#W3sZmlsZQ%3D%3D?line=10'>11</a>\u001b[0m \u001b[39mfrom\u001b[39;00m \u001b[39mmatplotlib\u001b[39;00m \u001b[39mimport\u001b[39;00m pyplot \u001b[39mas\u001b[39;00m plt\n",
      "\u001b[1;31mModuleNotFoundError\u001b[0m: No module named 'wordcloud'"
     ]
    }
   ],
   "source": [
    "# Here are all the installs and imports you will need for your word cloud script and uploader widget\n",
    "\n",
    "!pip install wordcloud\n",
    "!pip install fileupload\n",
    "!pip install ipywidgets\n",
    "!jupyter nbextension install --py --user fileupload\n",
    "!jupyter nbextension enable --py fileupload\n",
    "\n",
    "import wordcloud\n",
    "import numpy as np\n",
    "from matplotlib import pyplot as plt\n",
    "from IPython.display import display\n",
    "import fileupload\n",
    "import io\n",
    "import sys"
   ]
  },
  {
   "cell_type": "markdown",
   "metadata": {},
   "source": [
    "Whew! That was a lot. All of the installs and imports for your word cloud script and uploader widget have been completed. \n",
    "<br><br>\n",
    "**IMPORTANT!** If this was your first time running the above cell containing the installs and imports, you will need save this notebook now. Then under the File menu above,  select Close and Halt. When the notebook has completely shut down, reopen it. This is the only way the necessary changes will take affect.\n",
    "<br><br>\n",
    "To upload your text file, run the following cell that contains all the code for a custom uploader widget. Once you run this cell, a \"Browse\" button should appear below it. Click this button and navigate the window to locate your saved text file."
   ]
  },
  {
   "cell_type": "code",
   "execution_count": null,
   "metadata": {},
   "outputs": [],
   "source": [
    "# This is the uploader widget\n",
    "\n",
    "def _upload():\n",
    "\n",
    "    _upload_widget = fileupload.FileUploadWidget()\n",
    "\n",
    "    def _cb(change):\n",
    "        global file_contents\n",
    "        decoded = io.StringIO(change['owner'].data.decode('utf-8'))\n",
    "        filename = change['owner'].filename\n",
    "        print('Uploaded `{}` ({:.2f} kB)'.format(\n",
    "            filename, len(decoded.read()) / 2 **10))\n",
    "        file_contents = decoded.getvalue()\n",
    "\n",
    "    _upload_widget.observe(_cb, names='data')\n",
    "    display(_upload_widget)\n",
    "\n",
    "_upload()"
   ]
  },
  {
   "cell_type": "markdown",
   "metadata": {},
   "source": [
    "The uploader widget saved the contents of your uploaded file into a string object named *file_contents* that your word cloud script can process. This was a lot of preliminary work, but you are now ready to begin your script. "
   ]
  },
  {
   "cell_type": "markdown",
   "metadata": {},
   "source": [
    "Write a function in the cell below that iterates through the words in *file_contents*, removes punctuation, and counts the frequency of each word.  Oh, and be sure to make it ignore word case, words that do not contain all alphabets and boring words like \"and\" or \"the\".  Then use it in the `generate_from_frequencies` function to generate your very own word cloud!\n",
    "<br><br>\n",
    "**Hint:** Try storing the results of your iteration in a dictionary before passing them into wordcloud via the `generate_from_frequencies` function."
   ]
  },
  {
   "cell_type": "code",
   "execution_count": null,
   "metadata": {},
   "outputs": [],
   "source": [
    "def calculate_frequencies(file_contents):\n",
    "    # Here is a list of punctuations and uninteresting words you can use to process your text\n",
    "    punctuations = '''!()-[]{};:'\"\\,<>./?@#$%^&*_~'''\n",
    "    uninteresting_words = [\"the\", \"a\", \"to\", \"if\", \"is\", \"it\", \"of\", \"and\", \"or\", \"an\", \"as\", \"i\", \"me\", \"my\", \\\n",
    "    \"we\", \"our\", \"ours\", \"you\", \"your\", \"yours\", \"he\", \"she\", \"him\", \"his\", \"her\", \"hers\", \"its\", \"they\", \"them\", \\\n",
    "    \"their\", \"what\", \"which\", \"who\", \"whom\", \"this\", \"that\", \"am\", \"are\", \"was\", \"were\", \"be\", \"been\", \"being\", \\\n",
    "    \"have\", \"has\", \"had\", \"do\", \"does\", \"did\", \"but\", \"at\", \"by\", \"with\", \"from\", \"here\", \"when\", \"where\", \"how\", \\\n",
    "    \"all\", \"any\", \"both\", \"each\", \"few\", \"more\", \"some\", \"such\", \"no\", \"nor\", \"too\", \"very\", \"can\", \"will\", \"just\",\"for\",\"in\",\"than\"]\n",
    "    \n",
    "    # LEARNER CODE START HERE\n",
    "    cleaned_word_with_frequency = {}\n",
    "    words = file_contents.lower().split(\" \")\n",
    "    cleaned_words = [] # for holding all cleaned and interesting words \n",
    "    for wrd in words:\n",
    "        if wrd not in uninteresting_words and wrd.isalpha()==True:\n",
    "            cleaned_words.append(wrd)\n",
    "    for word in cleaned_words:\n",
    "        if word not in cleaned_word_with_frequency:\n",
    "            cleaned_word_with_frequency[word] = 1\n",
    "        else:\n",
    "            cleaned_word_with_frequency[word] += 1\n",
    "        \n",
    "    #wordcloud\n",
    "    cloud = wordcloud.WordCloud()\n",
    "    cloud.generate_from_frequencies(cleaned_word_with_frequency)\n",
    "    return cloud.to_array()"
   ]
  },
  {
   "cell_type": "markdown",
   "metadata": {},
   "source": [
    "If you have done everything correctly, your word cloud image should appear after running the cell below.  Fingers crossed!"
   ]
  },
  {
   "cell_type": "code",
   "execution_count": null,
   "metadata": {},
   "outputs": [],
   "source": [
    "# Display your wordcloud image\n",
    "\n",
    "myimage = calculate_frequencies(file_contents)\n",
    "plt.imshow(myimage, interpolation = 'nearest')\n",
    "plt.axis('off')\n",
    "plt.show()"
   ]
  },
  {
   "cell_type": "markdown",
   "metadata": {},
   "source": [
    "If your word cloud image did not appear, go back and rework your `calculate_frequencies` function until you get the desired output.  Definitely check that you passed your frequecy count dictionary into the `generate_from_frequencies` function of `wordcloud`. Once you have correctly displayed your word cloud image, you are all done with this project. Nice work!"
   ]
  }
 ],
 "metadata": {
  "coursera": {
   "course_slug": "python-crash-course",
   "graded_item_id": "Z5d28",
   "launcher_item_id": "eSjyd"
  },
  "kernelspec": {
   "display_name": "Python 3",
   "language": "python",
   "name": "python3"
  },
  "language_info": {
   "codemirror_mode": {
    "name": "ipython",
    "version": 3
   },
   "file_extension": ".py",
   "mimetype": "text/x-python",
   "name": "python",
   "nbconvert_exporter": "python",
   "pygments_lexer": "ipython3",
   "version": "3.11.0"
  },
  "widgets": {
   "application/vnd.jupyter.widget-state+json": {
    "state": {},
    "version_major": 2,
    "version_minor": 0
   }
  }
 },
 "nbformat": 4,
 "nbformat_minor": 2
}
