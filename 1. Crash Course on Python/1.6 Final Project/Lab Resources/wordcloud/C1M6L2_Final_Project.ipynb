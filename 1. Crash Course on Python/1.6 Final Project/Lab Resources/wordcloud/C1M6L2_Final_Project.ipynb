{
 "cells": [
  {
   "cell_type": "markdown",
   "metadata": {},
   "source": [
    "# First, create your text file and upload it using the uploader widget below."
   ]
  },
  {
   "cell_type": "code",
   "execution_count": 1,
   "metadata": {},
   "outputs": [],
   "source": [
    "import numpy as np\n",
    "import pandas as pd\n",
    "import wordcloud\n",
    "from os import path\n",
    "from PIL import Image\n",
    "\n",
    "\n",
    "import matplotlib.pyplot as plt\n"
   ]
  },
  {
   "cell_type": "code",
   "execution_count": 2,
   "metadata": {},
   "outputs": [
    {
     "data": {
      "application/vnd.jupyter.widget-view+json": {
       "model_id": "7915a38c623941f7898d1bea1e063e88",
       "version_major": 2,
       "version_minor": 0
      },
      "text/plain": [
       "FileUploadWidget(label='Browse', _dom_classes=('widget_item', 'btn-group'))"
      ]
     },
     "metadata": {},
     "output_type": "display_data"
    }
   ],
   "source": [
    "### Work in progress- this is part of a file uploader widget allowing the learner to upload files directly to the notebook dir\n",
    "import io\n",
    "from IPython.display import display\n",
    "import fileupload\n",
    "\n",
    "def _upload():\n",
    "\n",
    "    _upload_widget = fileupload.FileUploadWidget()\n",
    "\n",
    "    def _cb(change):\n",
    "        decoded = io.StringIO(change['owner'].data.decode('utf-8'))\n",
    "        filename = change['owner'].filename\n",
    "        print('Uploaded `{}` ({:.2f} kB)'.format(\n",
    "            filename, len(decoded.read()) / 2 **10))\n",
    "\n",
    "    _upload_widget.observe(_cb, names='data')\n",
    "    display(_upload_widget)\n",
    "\n",
    "_upload()"
   ]
  },
  {
   "cell_type": "markdown",
   "metadata": {},
   "source": [
    "## Next, write a function in the cell below that iterates through the words in text file, removes punctuation, and counts the frequency of each word. Oh, and be sure to make it ignore boring words like \"and\" or \"the\". Then use it in the generate_from_frequencies() function to generate your very own wordcloud! "
   ]
  },
  {
   "cell_type": "code",
   "execution_count": 3,
   "metadata": {},
   "outputs": [
    {
     "ename": "AttributeError",
     "evalue": "'tuple' object has no attribute 'items'",
     "output_type": "error",
     "traceback": [
      "\u001b[1;31m---------------------------------------------------------------------------\u001b[0m",
      "\u001b[1;31mAttributeError\u001b[0m                            Traceback (most recent call last)",
      "\u001b[1;32mc:\\Users\\Yashuv\\Desktop\\Coursera-Courses\\Google IT Automation with Python Professional Certificate\\1. Crash Course on Python\\1.6 Final Project\\Lab Resources\\wordcloud\\C1M6L2_Final_Project.ipynb Cell 5\u001b[0m in \u001b[0;36m7\n\u001b[0;32m      <a href='vscode-notebook-cell:/c%3A/Users/Yashuv/Desktop/Coursera-Courses/Google%20IT%20Automation%20with%20Python%20Professional%20Certificate/1.%20Crash%20Course%20on%20Python/1.6%20Final%20Project/Lab%20Resources/wordcloud/C1M6L2_Final_Project.ipynb#W4sZmlsZQ%3D%3D?line=3'>4</a>\u001b[0m words \u001b[39m=\u001b[39m \u001b[39mopen\u001b[39m (\u001b[39m\"\u001b[39m\u001b[39mmywords.txt\u001b[39m\u001b[39m\"\u001b[39m)\u001b[39m.\u001b[39mread()\n\u001b[0;32m      <a href='vscode-notebook-cell:/c%3A/Users/Yashuv/Desktop/Coursera-Courses/Google%20IT%20Automation%20with%20Python%20Professional%20Certificate/1.%20Crash%20Course%20on%20Python/1.6%20Final%20Project/Lab%20Resources/wordcloud/C1M6L2_Final_Project.ipynb#W4sZmlsZQ%3D%3D?line=5'>6</a>\u001b[0m wordcloud \u001b[39m=\u001b[39m wordcloud\u001b[39m.\u001b[39mWordCloud() \n\u001b[1;32m----> <a href='vscode-notebook-cell:/c%3A/Users/Yashuv/Desktop/Coursera-Courses/Google%20IT%20Automation%20with%20Python%20Professional%20Certificate/1.%20Crash%20Course%20on%20Python/1.6%20Final%20Project/Lab%20Resources/wordcloud/C1M6L2_Final_Project.ipynb#W4sZmlsZQ%3D%3D?line=6'>7</a>\u001b[0m wordcloud\u001b[39m.\u001b[39;49mgenerate_from_frequencies(())\n",
      "File \u001b[1;32mc:\\Users\\Yashuv\\Desktop\\Coursera-Courses\\Google IT Automation with Python Professional Certificate\\1. Crash Course on Python\\1.6 Final Project\\Lab Resources\\wordcloud\\wordcloud.py:386\u001b[0m, in \u001b[0;36mWordCloud.generate_from_frequencies\u001b[1;34m(self, frequencies, max_font_size)\u001b[0m\n\u001b[0;32m    370\u001b[0m \u001b[39m\"\"\"Create a word_cloud from words and frequencies.\u001b[39;00m\n\u001b[0;32m    371\u001b[0m \n\u001b[0;32m    372\u001b[0m \u001b[39mParameters\u001b[39;00m\n\u001b[1;32m   (...)\u001b[0m\n\u001b[0;32m    383\u001b[0m \n\u001b[0;32m    384\u001b[0m \u001b[39m\"\"\"\u001b[39;00m\n\u001b[0;32m    385\u001b[0m \u001b[39m# make sure frequencies are sorted and normalized\u001b[39;00m\n\u001b[1;32m--> 386\u001b[0m frequencies \u001b[39m=\u001b[39m \u001b[39msorted\u001b[39m(frequencies\u001b[39m.\u001b[39;49mitems(), key\u001b[39m=\u001b[39mitemgetter(\u001b[39m1\u001b[39m), reverse\u001b[39m=\u001b[39m\u001b[39mTrue\u001b[39;00m)\n\u001b[0;32m    387\u001b[0m \u001b[39mif\u001b[39;00m \u001b[39mlen\u001b[39m(frequencies) \u001b[39m<\u001b[39m\u001b[39m=\u001b[39m \u001b[39m0\u001b[39m:\n\u001b[0;32m    388\u001b[0m     \u001b[39mraise\u001b[39;00m \u001b[39mValueError\u001b[39;00m(\u001b[39m\"\u001b[39m\u001b[39mWe need at least 1 word to plot a word cloud, \u001b[39m\u001b[39m\"\u001b[39m\n\u001b[0;32m    389\u001b[0m                      \u001b[39m\"\u001b[39m\u001b[39mgot \u001b[39m\u001b[39m%d\u001b[39;00m\u001b[39m.\u001b[39m\u001b[39m\"\u001b[39m \u001b[39m%\u001b[39m \u001b[39mlen\u001b[39m(frequencies))\n",
      "\u001b[1;31mAttributeError\u001b[0m: 'tuple' object has no attribute 'items'"
     ]
    }
   ],
   "source": [
    "#comment_words = ' '\n",
    "#stopwords = set(None)\n",
    "\n",
    "words = open (\"mywords.txt\").read()\n",
    "\n",
    "wordcloud = wordcloud.WordCloud() \n",
    "wordcloud.generate_from_frequencies(())"
   ]
  },
  {
   "cell_type": "markdown",
   "metadata": {},
   "source": []
  },
  {
   "cell_type": "markdown",
   "metadata": {},
   "source": [
    "## If you've done everything correctly, your wordcloud image should appear below!"
   ]
  },
  {
   "cell_type": "code",
   "execution_count": null,
   "metadata": {},
   "outputs": [],
   "source": [
    "#This uses matplotlib to display the image inline rather than merely saving the image as a file.\n",
    "plt.figure(figsize = (8, 8), facecolor = None) \n",
    "plt.imshow(wordcloud) \n",
    "plt.axis(\"off\") \n",
    "plt.tight_layout(pad = 0) \n",
    "  \n",
    "plt.show() "
   ]
  }
 ],
 "metadata": {
  "kernelspec": {
   "display_name": "Python 3",
   "language": "python",
   "name": "python3"
  },
  "language_info": {
   "codemirror_mode": {
    "name": "ipython",
    "version": 3
   },
   "file_extension": ".py",
   "mimetype": "text/x-python",
   "name": "python",
   "nbconvert_exporter": "python",
   "pygments_lexer": "ipython3",
   "version": "3.11.0"
  }
 },
 "nbformat": 4,
 "nbformat_minor": 2
}
